{
 "cells": [
  {
   "cell_type": "markdown",
   "metadata": {},
   "source": [
    "# Google Analytical - Data Analysis of data stored by Google \n",
    "### All cells rely on the first cell to load the dataset in. Afterwards, all cells may be run independently of each other"
   ]
  },
  {
   "cell_type": "code",
   "execution_count": 1,
   "metadata": {
    "collapsed": false
   },
   "outputs": [],
   "source": [
    "import json\n",
    "import os\n",
    "\n",
    "DATA_DIR = \"./metadata\"\n",
    "SUBSET_SIZE = 10000\n",
    "\n",
    "#Read in the file as a dictionary\n",
    "loc_file = os.path.join(DATA_DIR, \"Location History/Location History.json\")\n",
    "with open(loc_file, \"r\") as f:\n",
    "    loc_data = json.load(f)\n",
    "    \n",
    "#Remove top level key entry\n",
    "trim_header_loc_data = loc_data['locations']"
   ]
  },
  {
   "cell_type": "code",
   "execution_count": 2,
   "metadata": {
    "collapsed": false
   },
   "outputs": [
    {
     "name": "stdout",
     "output_type": "stream",
     "text": [
      "Range of Dates:\n",
      "Start Date:  2018-03-08 12:30:34\n",
      "End Date:  2018-04-03 22:26:15\n"
     ]
    },
    {
     "data": {
      "image/png": "[encoded data removed]",
      "text/plain": [
       "<matplotlib.figure.Figure at 0x7f2609f1c940>"
      ]
     },
     "metadata": {},
     "output_type": "display_data"
    },
    {
     "name": "stdout",
     "output_type": "stream",
     "text": [
      "Average number of location points (15) in a 1 hour interval\n",
      "Minimum number of location points (1) occurred at times 2018-03-11 05:36:12 - 2018-03-11 06:36:17\n",
      "Maximum number of location points (238) occurred at times 2018-04-03 20:26:05 - 2018-04-03 21:26:10\n"
     ]
    }
   ],
   "source": [
    "import matplotlib.pyplot as plt\n",
    "import numpy as np\n",
    "from datetime import datetime\n",
    "\n",
    "BIN_SIZE = 3600000         #Splits data into segments of ~1 hour\n",
    "\n",
    "#Extract a subset of locations\n",
    "sub_loc_data = [trim_header_loc_data[i] for i in range(SUBSET_SIZE)]\n",
    "#Extract the timestamps from the data\n",
    "timestamps = [int(item['timestampMs']) for item in sub_loc_data]\n",
    "print(\"Range of Dates:\")\n",
    "print(\"Start Date: \", datetime.fromtimestamp(min(timestamps)//1000))\n",
    "print(\"End Date: \", datetime.fromtimestamp(max(timestamps)//1000))\n",
    "\n",
    "timestamps = np.asarray(sorted(timestamps))\n",
    "num_bins = (max(timestamps) - min(timestamps))//BIN_SIZE + 1\n",
    "bin_threshold = timestamps[0] + BIN_SIZE\n",
    "counts = np.zeros((num_bins, ), dtype='int')\n",
    "times = np.linspace(timestamps[0], timestamps[-1], num_bins)\n",
    "j = 0\n",
    "for i,_ in enumerate(timestamps):\n",
    "    if timestamps[i] >= bin_threshold:\n",
    "        bin_threshold += BIN_SIZE\n",
    "        j += 1\n",
    "    counts[j] += 1\n",
    "    \n",
    "#Plot the frequency of points taken\n",
    "plt.plot(times,counts)\n",
    "plt.xlabel(\"Time Frame (ms)\")\n",
    "plt.ylabel(\"Count\")\n",
    "plt.show()\n",
    "\n",
    "print(\"Average number of location points (%d) in a 1 hour interval\" % np.mean(counts))\n",
    "print(\"Minimum number of location points (%d) occurred at times %s - %s\" % \n",
    "      (min(counts), datetime.fromtimestamp(times[np.argmin(counts)]//1000),\n",
    "       datetime.fromtimestamp(times[np.argmin(counts)+1]//1000)))\n",
    "print(\"Maximum number of location points (%d) occurred at times %s - %s\" % \n",
    "      (max(counts), datetime.fromtimestamp(times[np.argmax(counts)]//1000),  \n",
    "       datetime.fromtimestamp(times[np.argmax(counts)+1]//1000)))"
   ]
  },
  {
   "cell_type": "markdown",
   "metadata": {},
   "source": [
    "#### Note: The last hour of data may seem anamolous however this is actually from when I used Maps for GPS\n",
    "\n",
    "#### Parsing out the activity data was quite a bit harder than expected. I wonder why the nesting is set up the way it is. Seems to be tacking onto existing systems without much organization"
   ]
  },
  {
   "cell_type": "code",
   "execution_count": 109,
   "metadata": {
    "collapsed": false
   },
   "outputs": [
    {
     "name": "stdout",
     "output_type": "stream",
     "text": [
      "Activity: IN_VEHICLE\n",
      "Count: 5642\n",
      "Percentage: 10.468892\n",
      "\n",
      "\n",
      "Activity: IN_RAIL_VEHICLE\n",
      "Count: 5096\n",
      "Percentage: 9.455773\n",
      "\n",
      "\n",
      "Activity: UNKNOWN\n",
      "Count: 5557\n",
      "Percentage: 10.311172\n",
      "\n",
      "\n",
      "Activity: TILTING\n",
      "Count: 3084\n",
      "Percentage: 5.722450\n",
      "\n",
      "\n",
      "Activity: ON_BICYCLE\n",
      "Count: 5113\n",
      "Percentage: 9.487317\n",
      "\n",
      "\n",
      "Activity: RUNNING\n",
      "Count: 4188\n",
      "Percentage: 7.770954\n",
      "\n",
      "\n",
      "Activity: IN_ROAD_VEHICLE\n",
      "Count: 5611\n",
      "Percentage: 10.411371\n",
      "\n",
      "\n",
      "Activity: ON_FOOT\n",
      "Count: 5425\n",
      "Percentage: 10.066242\n",
      "\n",
      "\n",
      "Activity: WALKING\n",
      "Count: 5425\n",
      "Percentage: 10.066242\n",
      "\n",
      "\n",
      "Activity: EXITING_VEHICLE\n",
      "Count: 69\n",
      "Percentage: 0.128031\n",
      "\n",
      "\n",
      "Activity: STILL\n",
      "Count: 8683\n",
      "Percentage: 16.111554\n",
      "\n",
      "\n"
     ]
    }
   ],
   "source": [
    "#Extract a subset of activities\n",
    "sub_act_data = [trim_header_loc_data[i] for i in range(SUBSET_SIZE)]\n",
    "#Google's storage format for activities is really strange (heavily nested)\n",
    "activities = [item['activity'] for item in sub_act_data if 'activity' in item.keys()]\n",
    "#This extracts all the features into a flatter format\n",
    "activities_flat = [[item for item in x] for x in activities]\n",
    "#Since not all the entries have the same depth go through the list using a traditional for loop\n",
    "activities_final = []\n",
    "timestamps = []\n",
    "activity = []\n",
    "extra = []\n",
    "for x in activities_flat:\n",
    "    for y in x:\n",
    "        activities_final.append(y)\n",
    "        timestamps.append(y['timestampMs'])\n",
    "        activity.append(y['activity'])\n",
    "        #Extra is only included in some entries and always the same value (for me)\n",
    "        if 'extra' in y:\n",
    "            extra.append(y['extra'])\n",
    "#Get the count of activity types\n",
    "types = {}\n",
    "total_acts = 0\n",
    "for act in activity:\n",
    "    for t in act:\n",
    "        if t['type'] not in types.keys():\n",
    "            types[t['type']] = 1\n",
    "        else:\n",
    "            types[t['type']] += 1\n",
    "        total_acts += 1\n",
    "for key in types.keys():\n",
    "    print(\"Activity: %s\\nCount: %d\\nPercentage: %f\\n\\n\" % (key, types[key], types[key]/total_acts * 100))"
   ]
  },
  {
   "cell_type": "markdown",
   "metadata": {},
   "source": []
  }
 ],
 "metadata": {
  "kernelspec": {
   "display_name": "Python 3",
   "language": "python",
   "name": "python3"
  },
  "language_info": {
   "codemirror_mode": {
    "name": "ipython",
    "version": 3
   },
   "file_extension": ".py",
   "mimetype": "text/x-python",
   "name": "python",
   "nbconvert_exporter": "python",
   "pygments_lexer": "ipython3",
   "version": "3.5.2"
  }
 },
 "nbformat": 4,
 "nbformat_minor": 2
}
